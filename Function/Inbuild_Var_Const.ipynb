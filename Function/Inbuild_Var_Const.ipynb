{
 "cells": [
  {
   "cell_type": "code",
   "execution_count": 1,
   "metadata": {},
   "outputs": [
    {
     "name": "stdout",
     "output_type": "stream",
     "text": [
      "True\n",
      "False\n"
     ]
    }
   ],
   "source": [
    "#True and False\n",
    "is_active = True\n",
    "is_inactive = False\n",
    "print(is_active)   # Output: True\n",
    "print(is_inactive) # Output: False"
   ]
  },
  {
   "cell_type": "code",
   "execution_count": 2,
   "metadata": {},
   "outputs": [
    {
     "name": "stdout",
     "output_type": "stream",
     "text": [
      "None\n"
     ]
    }
   ],
   "source": [
    "# Example: Using None to represent the absence of a value\n",
    "result = None\n",
    "print(result)  # Output: None\n",
    "\n"
   ]
  },
  {
   "cell_type": "code",
   "execution_count": 27,
   "metadata": {},
   "outputs": [
    {
     "name": "stdout",
     "output_type": "stream",
     "text": [
      "[[ 2  5]\n",
      " [ 8 11]]\n"
     ]
    }
   ],
   "source": [
    "# Example: Using Ellipsis (...) with a NumPy array\n",
    "import numpy as np\n",
    "\n",
    "# Creating a 3D NumPy array\n",
    "array = np.array([[[1, 2, 3], [4, 5, 6]], [[7, 8, 9], [10, 11, 12]]])\n",
    "\n",
    "# Using Ellipsis to select all elements in the first dimension and the first row\n",
    "result = array[..., 1]\n",
    "\n",
    "print(result)  # Output: [[1 4] [7 10]]\n",
    "\n"
   ]
  },
  {
   "cell_type": "code",
   "execution_count": 4,
   "metadata": {},
   "outputs": [
    {
     "name": "stdout",
     "output_type": "stream",
     "text": [
      "True\n",
      "False\n"
     ]
    }
   ],
   "source": [
    "# Example: Using NotImplemented to indicate an unimplemented operation\n",
    "class Example:\n",
    "    def __eq__(self, other):\n",
    "        if isinstance(other, Example):\n",
    "            return True\n",
    "        return NotImplemented\n",
    "\n",
    "a = Example()\n",
    "b = Example()\n",
    "print(a == b)  # Output: True\n",
    "print(a == 5)  # Output: NotImplemented\n"
   ]
  },
  {
   "cell_type": "code",
   "execution_count": 28,
   "metadata": {},
   "outputs": [
    {
     "name": "stdout",
     "output_type": "stream",
     "text": [
      "Debugging is enabled.\n"
     ]
    }
   ],
   "source": [
    "# Example: Checking if Python is running in debug mode\n",
    "if __debug__:\n",
    "    print(\"Debugging is enabled.\")  # This will be printed unless Python is started with -O\n"
   ]
  },
  {
   "cell_type": "code",
   "execution_count": 29,
   "metadata": {},
   "outputs": [
    {
     "name": "stdout",
     "output_type": "stream",
     "text": [
      "This is a general exception\n"
     ]
    }
   ],
   "source": [
    "# Example: Raising and catching a general Exception\n",
    "try:\n",
    "    raise Exception(\"This is a general exception\")\n",
    "except Exception as e:\n",
    "    print(e)  # Output: This is a general exception\n"
   ]
  },
  {
   "cell_type": "code",
   "execution_count": 30,
   "metadata": {},
   "outputs": [
    {
     "name": "stdout",
     "output_type": "stream",
     "text": [
      "can only concatenate str (not \"int\") to str\n"
     ]
    }
   ],
   "source": [
    "# Example: Handling a TypeError when performing an invalid operation\n",
    "try:\n",
    "    result = '5' + 5\n",
    "except TypeError as e:\n",
    "    print(e)  # Output: can only concatenate str (not \"int\") to str\n"
   ]
  },
  {
   "cell_type": "code",
   "execution_count": 31,
   "metadata": {},
   "outputs": [
    {
     "name": "stdout",
     "output_type": "stream",
     "text": [
      "invalid literal for int() with base 10: 'invalid'\n"
     ]
    }
   ],
   "source": [
    "# Example: Handling a ValueError when converting an invalid string to an integer\n",
    "try:\n",
    "    result = int(\"invalid\")\n",
    "except ValueError as e:\n",
    "    print(e)  # Output: invalid literal for int() with base 10: 'invalid'\n"
   ]
  },
  {
   "cell_type": "code",
   "execution_count": 9,
   "metadata": {},
   "outputs": [
    {
     "name": "stdout",
     "output_type": "stream",
     "text": [
      "'age'\n"
     ]
    }
   ],
   "source": [
    "# Example: Handling a KeyError when accessing a non-existent dictionary key\n",
    "try:\n",
    "    data = {'name': 'Alice'}\n",
    "    print(data['age'])\n",
    "except KeyError as e:\n",
    "    print(e)  # Output: 'age'\n"
   ]
  },
  {
   "cell_type": "code",
   "execution_count": 10,
   "metadata": {},
   "outputs": [
    {
     "name": "stdout",
     "output_type": "stream",
     "text": [
      "list index out of range\n"
     ]
    }
   ],
   "source": [
    "# Example: Handling an IndexError when accessing an out-of-range list index\n",
    "try:\n",
    "    numbers = [1, 2, 3]\n",
    "    print(numbers[5])\n",
    "except IndexError as e:\n",
    "    print(e)  # Output: list index out of range\n"
   ]
  },
  {
   "cell_type": "code",
   "execution_count": 11,
   "metadata": {},
   "outputs": [
    {
     "name": "stdout",
     "output_type": "stream",
     "text": [
      "name 'undefined_variable' is not defined\n"
     ]
    }
   ],
   "source": [
    "# Example: Handling a NameError when accessing an undefined variable\n",
    "try:\n",
    "    print(undefined_variable)\n",
    "except NameError as e:\n",
    "    print(e)  # Output: name 'undefined_variable' is not defined\n"
   ]
  },
  {
   "cell_type": "code",
   "execution_count": 12,
   "metadata": {},
   "outputs": [
    {
     "name": "stdout",
     "output_type": "stream",
     "text": [
      "No module named 'non_existent_module'\n"
     ]
    }
   ],
   "source": [
    "# Example: Handling an ImportError when importing a non-existent module\n",
    "try:\n",
    "    import non_existent_module\n",
    "except ImportError as e:\n",
    "    print(e)  # Output: No module named 'non_existent_module'\n"
   ]
  },
  {
   "cell_type": "code",
   "execution_count": 13,
   "metadata": {},
   "outputs": [
    {
     "name": "stdout",
     "output_type": "stream",
     "text": [
      "['C:\\\\Users\\\\Dayanand\\\\AppData\\\\Roaming\\\\Python\\\\Python311\\\\site-packages\\\\ipykernel_launcher.py', '--f=c:\\\\Users\\\\Dayanand\\\\AppData\\\\Roaming\\\\jupyter\\\\runtime\\\\kernel-v2-45504yc5CaA1rS5JM.json']\n"
     ]
    }
   ],
   "source": [
    "# Example: Accessing command-line arguments passed to the script\n",
    "import sys\n",
    "print(sys.argv)  # Output: List of command-line arguments passed to the script\n"
   ]
  },
  {
   "cell_type": "code",
   "execution_count": 14,
   "metadata": {},
   "outputs": [
    {
     "name": "stdout",
     "output_type": "stream",
     "text": [
      "['c:\\\\Users\\\\Dayanand\\\\AppData\\\\Local\\\\Programs\\\\Python\\\\Python311\\\\python311.zip', 'c:\\\\Users\\\\Dayanand\\\\AppData\\\\Local\\\\Programs\\\\Python\\\\Python311\\\\DLLs', 'c:\\\\Users\\\\Dayanand\\\\AppData\\\\Local\\\\Programs\\\\Python\\\\Python311\\\\Lib', 'c:\\\\Users\\\\Dayanand\\\\AppData\\\\Local\\\\Programs\\\\Python\\\\Python311', '', 'C:\\\\Users\\\\Dayanand\\\\AppData\\\\Roaming\\\\Python\\\\Python311\\\\site-packages', 'C:\\\\Users\\\\Dayanand\\\\AppData\\\\Roaming\\\\Python\\\\Python311\\\\site-packages\\\\win32', 'C:\\\\Users\\\\Dayanand\\\\AppData\\\\Roaming\\\\Python\\\\Python311\\\\site-packages\\\\win32\\\\lib', 'C:\\\\Users\\\\Dayanand\\\\AppData\\\\Roaming\\\\Python\\\\Python311\\\\site-packages\\\\Pythonwin', 'c:\\\\Users\\\\Dayanand\\\\AppData\\\\Local\\\\Programs\\\\Python\\\\Python311\\\\Lib\\\\site-packages']\n"
     ]
    }
   ],
   "source": [
    "# Example: Viewing the list of paths where Python looks for modules\n",
    "import sys\n",
    "print(sys.path)  # Output: List of paths where Python looks for modules\n"
   ]
  },
  {
   "cell_type": "code",
   "execution_count": 15,
   "metadata": {},
   "outputs": [
    {
     "ename": "SystemExit",
     "evalue": "Exiting the program",
     "output_type": "error",
     "traceback": [
      "An exception has occurred, use %tb to see the full traceback.\n",
      "\u001b[1;31mSystemExit\u001b[0m\u001b[1;31m:\u001b[0m Exiting the program\n"
     ]
    },
    {
     "name": "stderr",
     "output_type": "stream",
     "text": [
      "C:\\Users\\Dayanand\\AppData\\Roaming\\Python\\Python311\\site-packages\\IPython\\core\\interactiveshell.py:3585: UserWarning: To exit: use 'exit', 'quit', or Ctrl-D.\n",
      "  warn(\"To exit: use 'exit', 'quit', or Ctrl-D.\", stacklevel=1)\n"
     ]
    }
   ],
   "source": [
    "# Example: Exiting the script with a message\n",
    "import sys\n",
    "sys.exit(\"Exiting the program\")  # This will exit the script with a message\n"
   ]
  },
  {
   "cell_type": "code",
   "execution_count": 16,
   "metadata": {},
   "outputs": [
    {
     "name": "stdout",
     "output_type": "stream",
     "text": [
      "['c:\\\\Users\\\\Dayanand\\\\AppData\\\\Local\\\\Programs\\\\Python\\\\Python311\\\\python311.zip', 'c:\\\\Users\\\\Dayanand\\\\AppData\\\\Local\\\\Programs\\\\Python\\\\Python311\\\\DLLs', 'c:\\\\Users\\\\Dayanand\\\\AppData\\\\Local\\\\Programs\\\\Python\\\\Python311\\\\Lib', 'c:\\\\Users\\\\Dayanand\\\\AppData\\\\Local\\\\Programs\\\\Python\\\\Python311', '', 'C:\\\\Users\\\\Dayanand\\\\AppData\\\\Roaming\\\\Python\\\\Python311\\\\site-packages', 'C:\\\\Users\\\\Dayanand\\\\AppData\\\\Roaming\\\\Python\\\\Python311\\\\site-packages\\\\win32', 'C:\\\\Users\\\\Dayanand\\\\AppData\\\\Roaming\\\\Python\\\\Python311\\\\site-packages\\\\win32\\\\lib', 'C:\\\\Users\\\\Dayanand\\\\AppData\\\\Roaming\\\\Python\\\\Python311\\\\site-packages\\\\Pythonwin', 'c:\\\\Users\\\\Dayanand\\\\AppData\\\\Local\\\\Programs\\\\Python\\\\Python311\\\\Lib\\\\site-packages']\n"
     ]
    }
   ],
   "source": [
    "# Example: Viewing the list of paths where Python looks for modules\n",
    "import sys\n",
    "print(sys.path)  # Output: List of paths where Python looks for modules\n"
   ]
  },
  {
   "cell_type": "code",
   "execution_count": 17,
   "metadata": {},
   "outputs": [
    {
     "name": "stdout",
     "output_type": "stream",
     "text": [
      "3.11.9 (tags/v3.11.9:de54cf5, Apr  2 2024, 10:12:12) [MSC v.1938 64 bit (AMD64)]\n"
     ]
    }
   ],
   "source": [
    "# Example: Checking the version of Python being used\n",
    "import sys\n",
    "print(sys.version)  # Output: Python version information\n"
   ]
  },
  {
   "cell_type": "code",
   "execution_count": 18,
   "metadata": {},
   "outputs": [
    {
     "name": "stdout",
     "output_type": "stream",
     "text": [
      "__main__\n"
     ]
    }
   ],
   "source": [
    "# Example: Checking the name of the current module or script\n",
    "print(__name__)  # Output: '__main__' when run directly\n"
   ]
  },
  {
   "cell_type": "code",
   "execution_count": 19,
   "metadata": {},
   "outputs": [
    {
     "ename": "NameError",
     "evalue": "name '__file__' is not defined",
     "output_type": "error",
     "traceback": [
      "\u001b[1;31m---------------------------------------------------------------------------\u001b[0m",
      "\u001b[1;31mNameError\u001b[0m                                 Traceback (most recent call last)",
      "Cell \u001b[1;32mIn[19], line 2\u001b[0m\n\u001b[0;32m      1\u001b[0m \u001b[38;5;66;03m# Example: Getting the filename of the current script\u001b[39;00m\n\u001b[1;32m----> 2\u001b[0m \u001b[38;5;28mprint\u001b[39m(\u001b[38;5;18;43m__file__\u001b[39;49m)  \u001b[38;5;66;03m# Output: Name of the current script file\u001b[39;00m\n",
      "\u001b[1;31mNameError\u001b[0m: name '__file__' is not defined"
     ]
    }
   ],
   "source": [
    "# Example: Getting the filename of the current script\n",
    "print(__file__)  # Output: Name of the current script file\n"
   ]
  },
  {
   "cell_type": "code",
   "execution_count": 32,
   "metadata": {},
   "outputs": [
    {
     "name": "stdout",
     "output_type": "stream",
     "text": [
      "This is a docstring for example_function.\n"
     ]
    }
   ],
   "source": [
    "# Example: Accessing the docstring of a function\n",
    "def example_function():\n",
    "    \"\"\"This is a docstring for example_function.\"\"\"\n",
    "    pass\n",
    "\n",
    "print(example_function.__doc__)  # Output: This is a docstring for example_function.\n"
   ]
  },
  {
   "cell_type": "code",
   "execution_count": 21,
   "metadata": {},
   "outputs": [
    {
     "name": "stdout",
     "output_type": "stream",
     "text": [
      "None\n"
     ]
    }
   ],
   "source": [
    "# Example: Checking the package name of the current module\n",
    "print(__package__)  # Output: Package name of the current module, or None if not in a package\n"
   ]
  },
  {
   "cell_type": "code",
   "execution_count": 22,
   "metadata": {},
   "outputs": [
    {
     "name": "stdout",
     "output_type": "stream",
     "text": [
      "{'value': 10}\n"
     ]
    }
   ],
   "source": [
    "# Example: Accessing the attribute dictionary of an object\n",
    "class Example:\n",
    "    def __init__(self, value):\n",
    "        self.value = value\n",
    "\n",
    "obj = Example(10)\n",
    "print(obj.__dict__)  # Output: {'value': 10}\n"
   ]
  },
  {
   "cell_type": "code",
   "execution_count": 33,
   "metadata": {},
   "outputs": [
    {
     "name": "stdout",
     "output_type": "stream",
     "text": [
      "{'x': <class 'int'>, 'y': <class 'str'>, 'return': <class 'bool'>}\n"
     ]
    }
   ],
   "source": [
    "# Example: Accessing type annotations of a function\n",
    "def example_function(x: int, y: str) -> bool:\n",
    "    return True\n",
    "\n",
    "print(example_function.__annotations__)  # Output: {'x': <class 'int'>, 'y': <class 'str'>, 'return': <class 'bool'>}\n"
   ]
  }
 ],
 "metadata": {
  "kernelspec": {
   "display_name": "Python 3",
   "language": "python",
   "name": "python3"
  },
  "language_info": {
   "codemirror_mode": {
    "name": "ipython",
    "version": 3
   },
   "file_extension": ".py",
   "mimetype": "text/x-python",
   "name": "python",
   "nbconvert_exporter": "python",
   "pygments_lexer": "ipython3",
   "version": "3.11.9"
  }
 },
 "nbformat": 4,
 "nbformat_minor": 2
}
