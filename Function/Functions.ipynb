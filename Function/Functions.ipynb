{
 "cells": [
  {
   "cell_type": "markdown",
   "metadata": {},
   "source": [
    "This function converts pixel coordinates to millimeters. Here's a breakdown:\n",
    "\n",
    "mm_per_pixel = 1000 / 700:\n",
    "\n",
    "This line calculates the number of millimeters per pixel. It assumes that 700 pixels correspond to 1000 millimeters. The division gives the millimeters per pixel.\n",
    "\n",
    "calculate the no. of pixels usinng software like iamagej or photoshop"
   ]
  },
  {
   "cell_type": "code",
   "execution_count": 1,
   "metadata": {},
   "outputs": [],
   "source": [
    "def get_mm_from_pixel(x,y):\n",
    "    mm_per_pixel = 1000/700\n",
    "    return int(x*mm_per_pixel), int(y*mm_per_pixel)"
   ]
  },
  {
   "cell_type": "markdown",
   "metadata": {},
   "source": [
    "The get_centroid function calculates the centroid (or center) of a rectangular bounding box given its coordinates"
   ]
  },
  {
   "cell_type": "code",
   "execution_count": 2,
   "metadata": {},
   "outputs": [],
   "source": [
    "def get_centroid(xmin, xmax, ymin, ymax):\n",
    "    cx = int((xmin + xmax) / 2.0)\n",
    "    cy = int((ymin + ymax) / 2.0)\n",
    "    return(cx, cy)"
   ]
  },
  {
   "cell_type": "markdown",
   "metadata": {},
   "source": []
  },
  {
   "cell_type": "code",
   "execution_count": 3,
   "metadata": {},
   "outputs": [],
   "source": [
    "import cv2\n",
    "def draw_rectangle(img_rd, class_name, ymin, ymax, xmin, xmax, score, color, defect_size):\n",
    "    # class_name = class_name+\" \"+str(score)[:4] \n",
    "    class_name = str(defect_size) \n",
    "\n",
    "    fontsize_x = cv2.getTextSize(class_name, cv2.FONT_HERSHEY_SIMPLEX, 0.5, 1)[0][0]\n",
    "    fontsize_y = cv2.getTextSize(class_name, cv2.FONT_HERSHEY_SIMPLEX, 0.5, 1)[0][1]\n",
    "    # cv2.rectangle(img_rd, (xmin,ymin), (xmax,ymax),( int(color[0]),int(color[1]),int(color[2])),2)   \n",
    "    cv2.rectangle(img_rd, (xmin,ymin), ((xmin+fontsize_x),int(ymin-15)), ( int(color[0]),int(color[1]),int(color[2])),-1)\n",
    "    cv2.putText(img_rd, class_name,(xmin,int(ymin)) ,cv2.FONT_HERSHEY_SIMPLEX, 0.5, (0,0,0), 1, cv2.FILLED)\n",
    "    return img_rd"
   ]
  },
  {
   "cell_type": "code",
   "execution_count": 5,
   "metadata": {},
   "outputs": [
    {
     "name": "stdout",
     "output_type": "stream",
     "text": [
      "Full output of cv2.getTextSize: ((115, 12), 5)\n",
      "Width of the text box: 115\n",
      "Height of the text box: 12\n",
      "Baseline of the text box: 5\n"
     ]
    },
    {
     "data": {
      "image/png": "[encoded data removed]",
      "text/plain": [
       "<Figure size 640x480 with 1 Axes>"
      ]
     },
     "metadata": {},
     "output_type": "display_data"
    }
   ],
   "source": [
    "import cv2\n",
    "import numpy as np\n",
    "import matplotlib.pyplot as plt\n",
    "\n",
    "# Create a blank image\n",
    "img = np.zeros((500, 500, 3), dtype=np.uint8)\n",
    "\n",
    "# Define the text and its properties\n",
    "text = \"Hello, OpenCV!\"\n",
    "font = cv2.FONT_HERSHEY_SIMPLEX\n",
    "font_scale = 0.5\n",
    "thickness = 1\n",
    "\n",
    "# Get the text size\n",
    "text_size = cv2.getTextSize(text, font, font_scale, thickness)\n",
    "print(\"Full output of cv2.getTextSize:\", text_size)\n",
    "\n",
    "# Extract the width and height of the text box\n",
    "width = text_size[0][0]\n",
    "height = text_size[0][1]\n",
    "print(\"Width of the text box:\", width)\n",
    "print(\"Height of the text box:\", height)\n",
    "\n",
    "# Extract the baseline (just for reference)\n",
    "baseline = text_size[1]\n",
    "print(\"Baseline of the text box:\", baseline)\n",
    "\n",
    "# Draw the text on the image\n",
    "text_x = 50\n",
    "text_y = 100\n",
    "cv2.putText(img, text, (text_x, text_y), font, font_scale, (255, 255, 255), thickness)\n",
    "\n",
    "# Draw a rectangle around the text box\n",
    "top_left = (text_x, text_y - height)\n",
    "bottom_right = (text_x + width, text_y + baseline)\n",
    "cv2.rectangle(img, top_left, bottom_right, (0, 255, 0), 1)\n",
    "\n",
    "# Convert BGR image to RGB\n",
    "img_rgb = cv2.cvtColor(img, cv2.COLOR_BGR2RGB)\n",
    "\n",
    "# Display the image using Matplotlib\n",
    "plt.imshow(img_rgb)\n",
    "plt.title('Image with Text and Rectangle')\n",
    "plt.axis('off')  # Hide axes\n",
    "plt.show()\n",
    "\n"
   ]
  }
 ],
 "metadata": {
  "kernelspec": {
   "display_name": "Python 3",
   "language": "python",
   "name": "python3"
  },
  "language_info": {
   "codemirror_mode": {
    "name": "ipython",
    "version": 3
   },
   "file_extension": ".py",
   "mimetype": "text/x-python",
   "name": "python",
   "nbconvert_exporter": "python",
   "pygments_lexer": "ipython3",
   "version": "3.11.9"
  }
 },
 "nbformat": 4,
 "nbformat_minor": 2
}
